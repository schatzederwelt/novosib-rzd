{
  "cells": [
    {
      "cell_type": "markdown",
      "metadata": {
        "id": "aK8Mnon8XAMK"
      },
      "source": [
        "## Подготовка"
      ]
    },
    {
      "cell_type": "markdown",
      "metadata": {
        "id": "y3L8bLBLOM1s"
      },
      "source": [
        "### Загрузка библиотек"
      ]
    },
    {
      "cell_type": "code",
      "execution_count": 1,
      "metadata": {
        "colab": {
          "base_uri": "https://localhost:8080/"
        },
        "id": "5FGkip5DgJ8v",
        "outputId": "6fa88129-5372-4b20-e40d-4b6466e1ce88"
      },
      "outputs": [
        {
          "output_type": "stream",
          "name": "stdout",
          "text": [
            "Looking in indexes: https://pypi.org/simple, https://us-python.pkg.dev/colab-wheels/public/simple/\n",
            "Collecting imbalanced-learn==0.9\n",
            "  Downloading imbalanced_learn-0.9.0-py3-none-any.whl (199 kB)\n",
            "\u001b[K     |████████████████████████████████| 199 kB 5.2 MB/s \n",
            "\u001b[?25hRequirement already satisfied: scikit-learn>=1.0.1 in /usr/local/lib/python3.7/dist-packages (from imbalanced-learn==0.9) (1.0.2)\n",
            "Requirement already satisfied: joblib>=0.11 in /usr/local/lib/python3.7/dist-packages (from imbalanced-learn==0.9) (1.2.0)\n",
            "Requirement already satisfied: scipy>=1.1.0 in /usr/local/lib/python3.7/dist-packages (from imbalanced-learn==0.9) (1.7.3)\n",
            "Requirement already satisfied: numpy>=1.14.6 in /usr/local/lib/python3.7/dist-packages (from imbalanced-learn==0.9) (1.21.6)\n",
            "Requirement already satisfied: threadpoolctl>=2.0.0 in /usr/local/lib/python3.7/dist-packages (from imbalanced-learn==0.9) (3.1.0)\n",
            "Installing collected packages: imbalanced-learn\n",
            "  Attempting uninstall: imbalanced-learn\n",
            "    Found existing installation: imbalanced-learn 0.8.1\n",
            "    Uninstalling imbalanced-learn-0.8.1:\n",
            "      Successfully uninstalled imbalanced-learn-0.8.1\n",
            "Successfully installed imbalanced-learn-0.9.0\n"
          ]
        }
      ],
      "source": [
        "!pip install  imbalanced-learn==0.9"
      ]
    },
    {
      "cell_type": "code",
      "execution_count": 2,
      "metadata": {
        "id": "r0gEgVVlN-wF"
      },
      "outputs": [],
      "source": [
        "import pandas as pd\n",
        "import seaborn as sns\n",
        "import matplotlib.pyplot as plt\n",
        "from sklearn import tree\n",
        "import numpy as np\n",
        "\n",
        "%matplotlib inline\n",
        "\n",
        "from sklearn.pipeline import make_pipeline\n",
        "\n",
        "# Борьба с дисбалансом\n",
        "import imblearn\n",
        "from imblearn.over_sampling import SMOTE\n",
        "from imblearn.ensemble import BalancedRandomForestClassifier"
      ]
    },
    {
      "cell_type": "markdown",
      "metadata": {
        "id": "mBw3yV3QOV0C"
      },
      "source": [
        "### Загрузка функций"
      ]
    },
    {
      "cell_type": "markdown",
      "metadata": {
        "id": "Ef3U747uWvwC"
      },
      "source": [
        "### Загрузка файлов"
      ]
    },
    {
      "cell_type": "code",
      "execution_count": 3,
      "metadata": {
        "colab": {
          "base_uri": "https://localhost:8080/"
        },
        "id": "XTFHRtl68d40",
        "outputId": "3f13eac8-b605-469e-efe7-8328c737a9a9"
      },
      "outputs": [
        {
          "output_type": "stream",
          "name": "stdout",
          "text": [
            "Mounted at /content/drive\n"
          ]
        }
      ],
      "source": [
        "# Доступ к файлам на colab\n",
        "import glob\n",
        "import os\n",
        "\n",
        "# Библиотека для работы с google drive\n",
        "from google.colab import drive\n",
        "\n",
        "# Монтируем диск\n",
        "drive.mount('/content/drive')\n",
        "\n",
        "# Смотрим файлы в директории\n",
        "# !ls \"/content/drive/My Drive/Colab Notebooks\""
      ]
    },
    {
      "cell_type": "code",
      "execution_count": 4,
      "metadata": {
        "id": "7lfTaeUtQncv"
      },
      "outputs": [],
      "source": [
        "# Меняем домашнюю директорию\n",
        "# для доступа к датасетам\n",
        "os.chdir(\"/content/drive/My Drive/Colab Notebooks/Цифровой прорыв - Новосиб\")"
      ]
    },
    {
      "cell_type": "code",
      "execution_count": 5,
      "metadata": {
        "id": "3TZUcuZ33rM5"
      },
      "outputs": [],
      "source": [
        "df_train = pd.read_csv(\"train_dataset_train.csv\")\n",
        "df_test = pd.read_csv(\"test_dataset_test.csv\")"
      ]
    },
    {
      "cell_type": "markdown",
      "metadata": {
        "id": "-wr0_fbUBtWG"
      },
      "source": [
        "## ТЕСТ"
      ]
    },
    {
      "cell_type": "code",
      "execution_count": 11,
      "metadata": {
        "id": "HVNEh8QnB4CV"
      },
      "outputs": [],
      "source": [
        "features = [ 'Northing', 'Easting', \n",
        "            'Height', 'Reflectance',  \n",
        "            'combine_north_east', 'height_north_east']\n",
        "target = 'Class'\n",
        "\n",
        "# Для обучения берем подвыборку большого датасета\n",
        "# ml_data = df_train.sample(1000000)\n",
        "ml_data = df_train\n",
        "\n",
        "# Добавляем новый признак\n",
        "for df in [ml_data, df_test]:\n",
        "  df['combine_north_east'] = df['Easting'] + df['Northing'] \n",
        "  df['height_north_east'] = df['Height'] + df['combine_north_east']"
      ]
    },
    {
      "cell_type": "code",
      "execution_count": 12,
      "metadata": {
        "colab": {
          "base_uri": "https://localhost:8080/"
        },
        "id": "m3z1GbsU9MbI",
        "outputId": "743d62ce-f2f9-4999-96a3-a2767c33f340"
      },
      "outputs": [
        {
          "output_type": "stream",
          "name": "stdout",
          "text": [
            "Исходный баланс классов в обучающей выборке\n"
          ]
        },
        {
          "output_type": "execute_result",
          "data": {
            "text/plain": [
              "{0: 2731040, 3: 1287816, 4: 103453, 5: 55985, 1: 39384, 64: 4416}"
            ]
          },
          "metadata": {},
          "execution_count": 12
        }
      ],
      "source": [
        "print(\"Исходный баланс классов в обучающей выборке\")\n",
        "weights_smote = ml_data[target].value_counts().to_dict()\n",
        "weights_smote"
      ]
    },
    {
      "cell_type": "code",
      "execution_count": 13,
      "metadata": {
        "colab": {
          "base_uri": "https://localhost:8080/"
        },
        "id": "4EvCTKgj9luY",
        "outputId": "ac5e93e8-11d0-4635-f00d-318d8077fc9b"
      },
      "outputs": [
        {
          "output_type": "stream",
          "name": "stdout",
          "text": [
            "Целевой баланс классов для SMOTE\n"
          ]
        },
        {
          "output_type": "execute_result",
          "data": {
            "text/plain": [
              "{0: 2731040, 3: 1287816, 4: 103453, 5: 103453, 1: 103453, 64: 103453}"
            ]
          },
          "metadata": {},
          "execution_count": 13
        }
      ],
      "source": [
        "print(\"Целевой баланс классов для SMOTE\")\n",
        "weights_smote[64] = weights_smote[4]\n",
        "weights_smote[1] = weights_smote[4]\n",
        "weights_smote[5] = weights_smote[4]\n",
        "weights_smote"
      ]
    },
    {
      "cell_type": "code",
      "execution_count": 14,
      "metadata": {
        "id": "52Sl7trhBzOx"
      },
      "outputs": [],
      "source": [
        "model = BalancedRandomForestClassifier(\n",
        "    n_estimators=120,                                       \n",
        "    bootstrap=False,\n",
        "    max_features=3)\n",
        "\n",
        "clf = imblearn.pipeline.Pipeline([    \n",
        "      ('SMOTE', SMOTE(random_state=12, \n",
        "                      sampling_strategy=weights_smote,\n",
        "                      k_neighbors=13)),       \n",
        "      ('model', model)\n",
        "])\n",
        "\n",
        "clf.fit(ml_data[features], ml_data[target])\n",
        "predictions = clf.predict(df_test[features])\n",
        "\n",
        "df_test[target] = predictions\n",
        "df_test[['id', target]].to_csv(\"test_predictions.csv\", sep=\",\", index=False)"
      ]
    },
    {
      "cell_type": "code",
      "execution_count": 15,
      "metadata": {
        "colab": {
          "base_uri": "https://localhost:8080/",
          "height": 295
        },
        "id": "JQDgJVzgCz3l",
        "outputId": "da55c97a-7a79-467e-ce31-64ec598503f7"
      },
      "outputs": [
        {
          "output_type": "display_data",
          "data": {
            "text/plain": [
              "<Figure size 432x288 with 1 Axes>"
            ],
            "image/png": "[encoded data removed]"
          },
          "metadata": {
            "needs_background": "light"
          }
        }
      ],
      "source": [
        "sns.countplot(x = target, data  = df_test).set_title('Распределение целевого класса в предсказаниях');"
      ]
    },
    {
      "cell_type": "markdown",
      "source": [
        "Баланс классов в предсказаниях сохранен!"
      ],
      "metadata": {
        "id": "azcNKscmhEfx"
      }
    }
  ],
  "metadata": {
    "colab": {
      "collapsed_sections": [],
      "toc_visible": true,
      "provenance": []
    },
    "kernelspec": {
      "display_name": "Python 3",
      "name": "python3"
    },
    "language_info": {
      "name": "python"
    }
  },
  "nbformat": 4,
  "nbformat_minor": 0
}